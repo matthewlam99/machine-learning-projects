{
 "cells": [
  {
   "cell_type": "markdown",
   "metadata": {},
   "source": [
    "# Iris Flowers Classification ML Project– Learn about Supervised Machine Learning Algorithms\n",
    "\n",
    "Iris flowers dataset is one of the best and beginner friendly dataset in classification. The dataset has numeric attributes and beginners need to figure out on how to load and handle data.\n",
    "\n",
    "The goal of this machine learning project is to classify the flowers into among the three species – virginica, setosa, or versicolor based on length and width of petals and sepals.\n",
    "\n"
   ]
  },
  {
   "cell_type": "code",
   "execution_count": 1,
   "metadata": {},
   "outputs": [],
   "source": [
    "import pandas as pd\n",
    "from sklearn.model_selection import train_test_split\n",
    "\n",
    "flower_data_path = '../flower-classifier/iris.csv'\n",
    "flower_data = pd.read_csv(flower_data_path, names=['sepalLength', 'sepalWidth', 'petalLength', 'petalWidth', 'class'])\n",
    "\n",
    "flower_data.head()\n",
    "\n",
    "y = flower_data['class']\n",
    "features = ['sepalLength', 'sepalWidth', 'petalLength', 'petalWidth']\n",
    "X = flower_data[features]\n",
    "\n",
    "train_X, val_X, train_y, val_y = train_test_split(X, y, train_size=0.7, test_size=0.3, random_state=0)"
   ]
  },
  {
   "cell_type": "code",
   "execution_count": 2,
   "metadata": {},
   "outputs": [
    {
     "name": "stdout",
     "output_type": "stream",
     "text": [
      "Decision Tree Accuracy is 97.77778%\n"
     ]
    }
   ],
   "source": [
    "import numpy as np\n",
    "from sklearn.tree import DecisionTreeClassifier\n",
    "\n",
    "flower_model = DecisionTreeClassifier(random_state = 0)\n",
    "flower_model.fit(train_X, train_y)\n",
    "prediction = flower_model.predict(val_X)\n",
    "\n",
    "#Vectorized Accuracy Checker\n",
    "accuracy = np.sum(prediction == val_y)/prediction.size * 100\n",
    "\n",
    "print('Decision Tree Accuracy is %0.5f' %accuracy + '%')"
   ]
  },
  {
   "cell_type": "markdown",
   "metadata": {},
   "source": [
    "# SQLite and Random Forest Implementation"
   ]
  },
  {
   "cell_type": "code",
   "execution_count": 6,
   "metadata": {},
   "outputs": [],
   "source": [
    "import pandas as pd\n",
    "import numpy as np\n",
    "import sqlite3\n",
    "from sklearn.model_selection import train_test_split\n",
    "\n",
    "table_name = 'Iris'\n",
    "\n",
    "#Connecting to the database\n",
    "conn = sqlite3.connect('../flower-classifier/database.sqlite')\n",
    "\n",
    "#Extract data from the database\n",
    "flower_data_db = pd.read_sql_query(\"SELECT * from Iris;\", conn)\n",
    "\n",
    "y_db = flower_data_db.Species\n",
    "X_db = flower_data_db.drop(['Id', 'Species'], axis=1)\n",
    "\n",
    "train_X_db, val_X_db, train_y_db, val_y_db = train_test_split(X_db, y_db, test_size=0.3, random_state=0)"
   ]
  },
  {
   "cell_type": "code",
   "execution_count": 5,
   "metadata": {},
   "outputs": [
    {
     "name": "stdout",
     "output_type": "stream",
     "text": [
      "Random Forest Accuracy is 97.77778%\n"
     ]
    }
   ],
   "source": [
    "from sklearn.ensemble import RandomForestClassifier\n",
    "\n",
    "rf_flower_model = RandomForestClassifier(random_state = 0, n_estimators = 100)\n",
    "rf_flower_model.fit(train_X_db, train_y_db)\n",
    "\n",
    "rf_prediction = rf_flower_model.predict(val_X_db)\n",
    "\n",
    "#Vectorized Accuracy Checker\n",
    "rf_accuracy = np.sum(rf_prediction == val_y_db)/rf_prediction.size * 100\n",
    "\n",
    "print('Random Forest Accuracy is %0.5f' %rf_accuracy + '%')"
   ]
  },
  {
   "cell_type": "code",
   "execution_count": null,
   "metadata": {},
   "outputs": [],
   "source": []
  }
 ],
 "metadata": {
  "kernelspec": {
   "display_name": "Python 3",
   "language": "python",
   "name": "python3"
  },
  "language_info": {
   "codemirror_mode": {
    "name": "ipython",
    "version": 3
   },
   "file_extension": ".py",
   "mimetype": "text/x-python",
   "name": "python",
   "nbconvert_exporter": "python",
   "pygments_lexer": "ipython3",
   "version": "3.7.3"
  }
 },
 "nbformat": 4,
 "nbformat_minor": 2
}
