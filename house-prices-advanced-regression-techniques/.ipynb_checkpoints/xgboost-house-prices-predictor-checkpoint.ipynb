{
 "cells": [
  {
   "cell_type": "markdown",
   "metadata": {},
   "source": [
    "# XGBoost: Housing Prices Advanced Regression Techiques \n",
    "The housing prices dataset is dataset used to display more advanced regression techniques. The dataset has numeric attributes, objects and empty values and will require hot one encoding, imputers and xgboost to load and handle the data.\n",
    "\n",
    "The goal of this machine learning project is to calculate the sale price of each house based on the various features of the house."
   ]
  },
  {
   "cell_type": "code",
   "execution_count": 1,
   "metadata": {},
   "outputs": [],
   "source": [
    "import pandas as pd\n",
    "\n",
    "def get_data():\n",
    "    #Import data\n",
    "    train_data = pd.read_csv('../house-prices-advanced-regression-techniques/train.csv')\n",
    "    #test_data = pd.read_csv('../house-prices-advanced-regression-techniques/test.csv')\n",
    "\n",
    "    #Drops data where the Sale Price is missing\n",
    "    train_data.dropna(axis=0, subset=['SalePrice'], inplace=True)\n",
    "\n",
    "    y = train_data.SalePrice\n",
    "    X = train_data.drop(['Id', 'SalePrice'], axis=1)\n",
    "\n",
    "    #Getting the desired columns in numbers and objects\n",
    "    low_cardinality_cols = [cname for cname in X.columns if \n",
    "                                    X[cname].nunique() < 10 and X[cname].dtype == \"object\"]\n",
    "    numeric_cols = [cname for cname in X.columns if \n",
    "                                    X[cname].dtype in ['int64', 'float64']]\n",
    "    my_cols = numeric_cols + low_cardinality_cols\n",
    "    X_predictors = X[my_cols]\n",
    "\n",
    "    #One-hot encodings\n",
    "    X = pd.get_dummies(X_predictors)\n",
    "    return X, y\n",
    "    "
   ]
  },
  {
   "cell_type": "markdown",
   "metadata": {},
   "source": [
    "# XGBoost and Train Test Split"
   ]
  },
  {
   "cell_type": "code",
   "execution_count": 3,
   "metadata": {},
   "outputs": [
    {
     "name": "stderr",
     "output_type": "stream",
     "text": [
      "/anaconda3/lib/python3.7/site-packages/xgboost/core.py:587: FutureWarning: Series.base is deprecated and will be removed in a future version\n",
      "  if getattr(data, 'base', None) is not None and \\\n"
     ]
    },
    {
     "name": "stdout",
     "output_type": "stream",
     "text": [
      "Mean Absolute Error XGBoost: 16790.0\n"
     ]
    }
   ],
   "source": [
    "import xgboost as xgb\n",
    "from sklearn.metrics import mean_absolute_error\n",
    "from sklearn.model_selection import train_test_split\n",
    "from sklearn.impute import SimpleImputer\n",
    "\n",
    "X_xg, y_xg = get_data()\n",
    "\n",
    "#Splitting the dataset\n",
    "X_train, X_test, y_train, y_test = train_test_split(X_xg, y_xg, train_size=0.7, test_size=0.3, random_state=0)\n",
    "\n",
    "#Imputer\n",
    "my_imputer = SimpleImputer()\n",
    "X_train = my_imputer.fit_transform(X_train)\n",
    "X_test = my_imputer.transform(X_test)\n",
    "\n",
    "#Training the model for XGBoost\n",
    "my_model = xgb.XGBRegressor(n_estimators=1000, learning_rate=0.05)\n",
    "my_model.fit(X_train, y_train, early_stopping_rounds=5, eval_set=[(X_test, y_test)], verbose=False)\n",
    "\n",
    "#Predicting using model and mean absolute error\n",
    "predictions = my_model.predict(X_test)\n",
    "mae = round(mean_absolute_error(predictions, y_test), -1)\n",
    "\n",
    "#Output\n",
    "print(\"Mean Absolute Error XGBoost: \" + str(mae))"
   ]
  }
 ],
 "metadata": {
  "kernelspec": {
   "display_name": "Python 3",
   "language": "python",
   "name": "python3"
  },
  "language_info": {
   "codemirror_mode": {
    "name": "ipython",
    "version": 3
   },
   "file_extension": ".py",
   "mimetype": "text/x-python",
   "name": "python",
   "nbconvert_exporter": "python",
   "pygments_lexer": "ipython3",
   "version": "3.7.3"
  }
 },
 "nbformat": 4,
 "nbformat_minor": 2
}
