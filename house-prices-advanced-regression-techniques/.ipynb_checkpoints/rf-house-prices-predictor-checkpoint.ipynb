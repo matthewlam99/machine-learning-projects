{
 "cells": [
  {
   "cell_type": "markdown",
   "metadata": {},
   "source": [
    "# Random Forest: Housing Prices Advanced Regression Techiques \n",
    "The housing prices dataset is dataset used to display more advanced regression techniques. The dataset has numeric attributes, objects and empty values and will require hot one encoding, imputers and random forest to load and handle the data.\n",
    "\n",
    "The goal of this machine learning project is to calculate the sale price of each house based on the various features of the house."
   ]
  },
  {
   "cell_type": "code",
   "execution_count": 1,
   "metadata": {},
   "outputs": [],
   "source": [
    "import pandas as pd\n",
    "\n",
    "def get_data():\n",
    "    #Import data\n",
    "    train_data = pd.read_csv('../house-prices-advanced-regression-techniques/train.csv')\n",
    "    #test_data = pd.read_csv('../house-prices-advanced-regression-techniques/test.csv')\n",
    "\n",
    "    #Drops data where the Sale Price is missing\n",
    "    train_data.dropna(axis=0, subset=['SalePrice'], inplace=True)\n",
    "\n",
    "    y = train_data.SalePrice\n",
    "    X = train_data.drop(['Id', 'SalePrice'], axis=1)\n",
    "\n",
    "    #Getting the desired columns in numbers and objects\n",
    "    low_cardinality_cols = [cname for cname in X.columns if \n",
    "                                    X[cname].nunique() < 10 and X[cname].dtype == \"object\"]\n",
    "    numeric_cols = [cname for cname in X.columns if \n",
    "                                    X[cname].dtype in ['int64', 'float64']]\n",
    "    my_cols = numeric_cols + low_cardinality_cols\n",
    "    X_predictors = X[my_cols]\n",
    "\n",
    "    #One-hot encodings\n",
    "    X = pd.get_dummies(X_predictors)\n",
    "    return X, y\n",
    "    "
   ]
  },
  {
   "cell_type": "markdown",
   "metadata": {},
   "source": [
    "# Random Forest and Cross Validation"
   ]
  },
  {
   "cell_type": "code",
   "execution_count": 2,
   "metadata": {},
   "outputs": [
    {
     "name": "stdout",
     "output_type": "stream",
     "text": [
      "Mean Absolute Error CV:\n",
      " 17947.349383561643\n"
     ]
    }
   ],
   "source": [
    "from sklearn.pipeline import Pipeline\n",
    "from sklearn.ensemble import RandomForestRegressor\n",
    "from sklearn.model_selection import cross_val_score\n",
    "from sklearn.impute import SimpleImputer\n",
    "\n",
    "X_rf, y_rf = get_data()\n",
    "\n",
    "my_pipeline = Pipeline(steps=[('preprocessor', SimpleImputer()),\n",
    "                              ('model', RandomForestRegressor(n_estimators=50, random_state=0))\n",
    "                             ])\n",
    "scores = -1 * cross_val_score(my_pipeline, X_rf, y_rf,\n",
    "                              cv=5,\n",
    "                              scoring='neg_mean_absolute_error')\n",
    "\n",
    "print(\"Mean Absolute Error CV:\\n\", scores.mean())"
   ]
  }
 ],
 "metadata": {
  "kernelspec": {
   "display_name": "Python 3",
   "language": "python",
   "name": "python3"
  },
  "language_info": {
   "codemirror_mode": {
    "name": "ipython",
    "version": 3
   },
   "file_extension": ".py",
   "mimetype": "text/x-python",
   "name": "python",
   "nbconvert_exporter": "python",
   "pygments_lexer": "ipython3",
   "version": "3.7.3"
  }
 },
 "nbformat": 4,
 "nbformat_minor": 2
}
